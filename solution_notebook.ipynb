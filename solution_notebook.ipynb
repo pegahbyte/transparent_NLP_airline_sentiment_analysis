{
 "cells": [
  {
   "cell_type": "markdown",
   "metadata": {},
   "source": [
    "### 0. Loading Libraries and Data"
   ]
  },
  {
   "cell_type": "code",
   "execution_count": 1,
   "metadata": {},
   "outputs": [
    {
     "name": "stderr",
     "output_type": "stream",
     "text": [
      "[nltk_data] Downloading package stopwords to\n",
      "[nltk_data]     C:\\Users\\PegahMaham_8pg0uam\\AppData\\Roaming\\nltk_data.\n",
      "[nltk_data]     ..\n",
      "[nltk_data]   Package stopwords is already up-to-date!\n"
     ]
    }
   ],
   "source": [
    "import numpy as np\n",
    "import pandas as pd\n",
    "import pickle\n",
    "\n",
    "# NLP Pre-Processing\n",
    "from sklearn.feature_extraction.text import CountVectorizer\n",
    "from sklearn.feature_extraction.text import TfidfTransformer\n",
    "import re\n",
    "import nltk\n",
    "nltk.download('stopwords')\n",
    "from nltk.corpus import stopwords\n",
    "from nltk.stem.porter import PorterStemmer\n",
    "from gensim.models import KeyedVectors\n",
    "\n",
    "# Emoji tranlation\n",
    "import demoji\n",
    "\n",
    "# Rule Based Sentiment Detection\n",
    "import vaderSentiment\n",
    "from vaderSentiment.vaderSentiment import SentimentIntensityAnalyzer\n",
    "\n",
    "# Classification Models\n",
    "from sklearn.linear_model import LogisticRegression\n",
    "from sklearn.neural_network import MLPClassifier\n",
    "from sklearn.ensemble import GradientBoostingClassifier\n",
    "from sklearn.model_selection import GridSearchCV\n",
    "\n",
    "# Evaluation\n",
    "import matplotlib.pyplot as plt\n",
    "from sklearn.metrics import plot_confusion_matrix"
   ]
  },
  {
   "cell_type": "code",
   "execution_count": 2,
   "metadata": {},
   "outputs": [
    {
     "name": "stderr",
     "output_type": "stream",
     "text": [
      "C:\\Users\\PegahMaham_8pg0uam\\Anaconda3\\lib\\site-packages\\ipykernel_launcher.py:2: FutureWarning: Passing a negative integer is deprecated in version 1.0 and will not be supported in future version. Instead, use None to not limit the column width.\n",
      "  \n"
     ]
    }
   ],
   "source": [
    "pd.set_option('display.max_columns', None)  \n",
    "pd.set_option('display.max_colwidth', -1)"
   ]
  },
  {
   "cell_type": "code",
   "execution_count": 3,
   "metadata": {},
   "outputs": [
    {
     "data": {
      "text/plain": [
       "(Index(['airline_sentiment', 'text', 'purpose'], dtype='object'), (14640, 3))"
      ]
     },
     "execution_count": 3,
     "metadata": {},
     "output_type": "execute_result"
    }
   ],
   "source": [
    "df0 = pd.read_csv(\"airline_tweets_split.csv\", index_col=\"Unnamed: 0\")\n",
    "df0=df0[['airline_sentiment','text', 'purpose']]\n",
    "df0.columns,df0.shape"
   ]
  },
  {
   "cell_type": "markdown",
   "metadata": {},
   "source": [
    "## Content\n",
    "0. Data and Libraries Load\n",
    "1. Text Preprocessing\n",
    "  1. Behind the Code: Translating Emoticons to Text\n",
    "  2. Behind the Code: Pre-Processing (Cleaning, Removal of Stop Words, Lemmatisation)\n",
    "  3. Behind the Code: Rule-Based Sentiment Analyser VADER\n",
    "    1. Examples of most positive and most negative read tweets\n",
    "    2. Examples of Misjudgement\n",
    "  4. Behind the Code: What top \"(2-3)-grams\" are the most common in the data?\n",
    "  5. Behind the Code: Getting an Intuition for fastText's Word Embedding\n",
    "    1. Most similar words\n",
    "    2. Similarity of words to \"happy\" and \"sad\" as proxies for positive and negative sentiment\n",
    "2. Classification Model\n",
    "  1. Creating Test and Train Set with Various Feature Sets\n",
    "  2. Optimizing Hyperparameters for most Promising Classification Models\n",
    "  3. Evaluation"
   ]
  },
  {
   "cell_type": "markdown",
   "metadata": {},
   "source": [
    "## 1. Text Preprocessing"
   ]
  },
  {
   "cell_type": "markdown",
   "metadata": {},
   "source": [
    "### *Behind the Code: Translating Emoticons to Text*"
   ]
  },
  {
   "cell_type": "code",
   "execution_count": 4,
   "metadata": {},
   "outputs": [
    {
     "name": "stdout",
     "output_type": "stream",
     "text": [
      "Downloading emoji data ...\n",
      "... OK (Got response in 0.32 seconds)\n",
      "Writing emoji data to C:\\Users\\PegahMaham_8pg0uam\\.demoji\\codes.json ...\n",
      "... OK\n"
     ]
    },
    {
     "data": {
      "text/plain": [
       "({'😠': 'angry face'}, {'😊': 'smiling face with smiling eyes'})"
      ]
     },
     "execution_count": 4,
     "metadata": {},
     "output_type": "execute_result"
    }
   ],
   "source": [
    "# 2 examples\n",
    "demoji.download_codes()\n",
    "demoji.findall(\"😠\"), demoji.findall(\"😊\")"
   ]
  },
  {
   "cell_type": "code",
   "execution_count": 5,
   "metadata": {},
   "outputs": [
    {
     "data": {
      "text/html": [
       "<div>\n",
       "<style scoped>\n",
       "    .dataframe tbody tr th:only-of-type {\n",
       "        vertical-align: middle;\n",
       "    }\n",
       "\n",
       "    .dataframe tbody tr th {\n",
       "        vertical-align: top;\n",
       "    }\n",
       "\n",
       "    .dataframe thead th {\n",
       "        text-align: right;\n",
       "    }\n",
       "</style>\n",
       "<table border=\"1\" class=\"dataframe\">\n",
       "  <thead>\n",
       "    <tr style=\"text-align: right;\">\n",
       "      <th></th>\n",
       "      <th>airline_sentiment</th>\n",
       "      <th>text</th>\n",
       "      <th>purpose</th>\n",
       "      <th>text+</th>\n",
       "      <th>emoji</th>\n",
       "      <th>testlength</th>\n",
       "    </tr>\n",
       "  </thead>\n",
       "  <tbody>\n",
       "    <tr>\n",
       "      <th>18</th>\n",
       "      <td>positive</td>\n",
       "      <td>I ❤️ flying @VirginAmerica. ☺️👍</td>\n",
       "      <td>train</td>\n",
       "      <td>I ❤️ flying @VirginAmerica. ☺️👍 red heart thumbs up smiling face</td>\n",
       "      <td>[red heart, thumbs up, smiling face]</td>\n",
       "      <td>3</td>\n",
       "    </tr>\n",
       "    <tr>\n",
       "      <th>24</th>\n",
       "      <td>negative</td>\n",
       "      <td>@VirginAmerica you guys messed up my seating.. I reserved seating with my friends and you guys gave my seat away ... 😡 I want free internet</td>\n",
       "      <td>train</td>\n",
       "      <td>@VirginAmerica you guys messed up my seating.. I reserved seating with my friends and you guys gave my seat away ... 😡 I want free internet pouting face</td>\n",
       "      <td>[pouting face]</td>\n",
       "      <td>1</td>\n",
       "    </tr>\n",
       "  </tbody>\n",
       "</table>\n",
       "</div>"
      ],
      "text/plain": [
       "   airline_sentiment  \\\n",
       "18  positive           \n",
       "24  negative           \n",
       "\n",
       "                                                                                                                                           text  \\\n",
       "18  I ❤️ flying @VirginAmerica. ☺️👍                                                                                                               \n",
       "24  @VirginAmerica you guys messed up my seating.. I reserved seating with my friends and you guys gave my seat away ... 😡 I want free internet   \n",
       "\n",
       "   purpose  \\\n",
       "18  train    \n",
       "24  train    \n",
       "\n",
       "                                                                                                                                                         text+  \\\n",
       "18  I ❤️ flying @VirginAmerica. ☺️👍 red heart thumbs up smiling face                                                                                             \n",
       "24  @VirginAmerica you guys messed up my seating.. I reserved seating with my friends and you guys gave my seat away ... 😡 I want free internet pouting face     \n",
       "\n",
       "                                   emoji  testlength  \n",
       "18  [red heart, thumbs up, smiling face]  3           \n",
       "24  [pouting face]                        1           "
      ]
     },
     "execution_count": 5,
     "metadata": {},
     "output_type": "execute_result"
    }
   ],
   "source": [
    "dfSmiley=df0[['airline_sentiment','text', 'purpose']]\n",
    "dfSmiley.loc[:,\"text+\"] = dfSmiley[\"text\"].apply(lambda x: x+\" \"+(\" \".join(list(demoji.findall(x).values())+[\" \"])[0:]))\n",
    "dfSmiley.loc[:,\"emoji\"] = dfSmiley[\"text\"].apply(lambda x: list(demoji.findall(x).values()))\n",
    "dfSmiley.loc[:,\"testlength\"]=dfSmiley[\"emoji\"].apply(lambda x: len(x))\n",
    "dfSmiley[dfSmiley.testlength!=0].head(2)"
   ]
  },
  {
   "cell_type": "code",
   "execution_count": 6,
   "metadata": {},
   "outputs": [],
   "source": [
    "def getTokens(df):\n",
    "    '''This function takes a dataframe with a \"text\" column and\n",
    "    returns a corpus_gensim and a corpus_bow column for the corresponding feature extraction methods.'''\n",
    "    ##### General Pre-Processing #####\n",
    "    # Emojis to Words\n",
    "    df.loc[:,\"text0\"] =df[\"text\"].apply(lambda x: x+\" \"+(\" \".join(list(demoji.findall(x).values())+[\" \"])[0:]))\n",
    "     # Remove URLs\n",
    "    df.loc[:,\"text0\"] = df['text0'].map(lambda x: re.sub('((www\\.[^\\s]+)|(https?://[^\\s]+))', '', x))\n",
    "    # Remove usernames\n",
    "    df.loc[:,\"text0\"] = df['text0'].map(lambda x: re.sub('@[^\\s]+', '', x))    \n",
    "    # Making everything lowercase\n",
    "    df.loc[:,\"text0\"] = df[\"text0\"].map(lambda x: x.lower())    \n",
    "    \n",
    "    ##### Gensim Pre-Processing #####\n",
    "    # Delete \"'s\" at the end of words\n",
    "    df.loc[:,\"corpus_gensim\"] = df['text0'].map(lambda x: re.sub(\"' \", \" \", x))\n",
    "    # Keep only letters and \"'s\" within words (e.g. \"Don't\" is known in pre-trained gensim model)\n",
    "    df.loc[:,\"corpus_gensim\"] = df['corpus_gensim'].map(lambda x: re.sub(\"[^a-zA-Z']\", ' ', x))\n",
    "    # Create list of words\n",
    "    df.loc[:,\"corpus_gensim\"] = df[\"corpus_gensim\"].apply(lambda x: x.split(' '))\n",
    "    \n",
    "    ##### Bag-of-Word Pre-Processing #####\n",
    "    # Convert e.g. \"don't\" to \"dont\" to lateron understand all versions as one\n",
    "    df.loc[:,\"corpus_bow\"] = df['text0'].map(lambda x: re.sub(\"'\", \"\", x))\n",
    "    # Get rid of all punctuation\n",
    "    df.loc[:,\"corpus_bow\"] = df['corpus_bow'].map(lambda x: re.sub('[^a-zA-Z]', ' ', x))\n",
    "    #splitting the sentence into words\n",
    "    df.loc[:,\"corpus_bow\"] = df[\"corpus_bow\"].map(lambda x: x.split())\n",
    "    # delete stop words (modified) and stem the remaining words\n",
    "    ps = PorterStemmer()\n",
    "    stopwords_all = (stopwords.words('english'))\n",
    "    # Useful stopwords are hand-selected and kept\n",
    "    useful_stop_words = ['no','nor','only','any','not','don', \"don't\", 'ain', 'aren', \"aren't\", 'couldn', \"couldn't\", 'didn', \"didn't\", 'doesn', \"doesn't\", 'hadn', \"hadn't\", 'hasn', \"hasn't\", 'haven', \"haven't\", 'isn', \"isn't\", \"mightn't\", 'mustn', \"mustn't\", 'needn', \"needn't\", 'shan', \"shan't\", 'shouldn', \"shouldn't\", 'wasn', \"wasn't\", 'weren', \"weren't\", 'won', \"won't\", 'wouldn', \"wouldn't\"]\n",
    "    stopwords0 = [word for word in stopwords_all if not word in useful_stop_words]\n",
    "    df.loc[:,\"corpus_bow\"] = df[\"corpus_bow\"].map(lambda x:[ps.stem(word) for word in x if not word in stopwords0])\n",
    "    # Join back to create string\n",
    "    df.loc[:,\"corpus_bow\"] = df[\"corpus_bow\"].map(lambda x: ' '.join(x))\n",
    "    return(df)"
   ]
  },
  {
   "cell_type": "markdown",
   "metadata": {},
   "source": [
    "### *Behind the Code: Pre-Processing (Cleaning, Removal of Stop Words, Lemmatisation)*"
   ]
  },
  {
   "cell_type": "code",
   "execution_count": 7,
   "metadata": {},
   "outputs": [
    {
     "data": {
      "text/html": [
       "<div>\n",
       "<style scoped>\n",
       "    .dataframe tbody tr th:only-of-type {\n",
       "        vertical-align: middle;\n",
       "    }\n",
       "\n",
       "    .dataframe tbody tr th {\n",
       "        vertical-align: top;\n",
       "    }\n",
       "\n",
       "    .dataframe thead th {\n",
       "        text-align: right;\n",
       "    }\n",
       "</style>\n",
       "<table border=\"1\" class=\"dataframe\">\n",
       "  <thead>\n",
       "    <tr style=\"text-align: right;\">\n",
       "      <th></th>\n",
       "      <th>airline_sentiment</th>\n",
       "      <th>text</th>\n",
       "      <th>purpose</th>\n",
       "      <th>text0</th>\n",
       "      <th>corpus_gensim</th>\n",
       "      <th>corpus_bow</th>\n",
       "    </tr>\n",
       "  </thead>\n",
       "  <tbody>\n",
       "    <tr>\n",
       "      <th>0</th>\n",
       "      <td>neutral</td>\n",
       "      <td>@VirginAmerica What @dhepburn said.</td>\n",
       "      <td>train</td>\n",
       "      <td>what  said.</td>\n",
       "      <td>[, what, , said, , , ]</td>\n",
       "      <td>said</td>\n",
       "    </tr>\n",
       "    <tr>\n",
       "      <th>1</th>\n",
       "      <td>positive</td>\n",
       "      <td>@VirginAmerica plus you've added commercials to the experience... tacky.</td>\n",
       "      <td>train</td>\n",
       "      <td>plus you've added commercials to the experience... tacky.</td>\n",
       "      <td>[, plus, you've, added, commercials, to, the, experience, , , , tacky, , , ]</td>\n",
       "      <td>plu youv ad commerci experi tacki</td>\n",
       "    </tr>\n",
       "    <tr>\n",
       "      <th>2</th>\n",
       "      <td>neutral</td>\n",
       "      <td>@VirginAmerica I didn't today... Must mean I need to take another trip!</td>\n",
       "      <td>train</td>\n",
       "      <td>i didn't today... must mean i need to take another trip!</td>\n",
       "      <td>[, i, didn't, today, , , , must, mean, i, need, to, take, another, trip, , , ]</td>\n",
       "      <td>didnt today must mean need take anoth trip</td>\n",
       "    </tr>\n",
       "    <tr>\n",
       "      <th>3</th>\n",
       "      <td>negative</td>\n",
       "      <td>@VirginAmerica it's really aggressive to blast obnoxious \"entertainment\" in your guests' faces &amp;amp; they have little recourse</td>\n",
       "      <td>test</td>\n",
       "      <td>it's really aggressive to blast obnoxious \"entertainment\" in your guests' faces &amp;amp; they have little recourse</td>\n",
       "      <td>[, it's, really, aggressive, to, blast, obnoxious, , entertainment, , in, your, guests, faces, , amp, , they, have, little, recourse, , ]</td>\n",
       "      <td>realli aggress blast obnoxi entertain guest face amp littl recours</td>\n",
       "    </tr>\n",
       "    <tr>\n",
       "      <th>4</th>\n",
       "      <td>negative</td>\n",
       "      <td>@VirginAmerica and it's a really big bad thing about it</td>\n",
       "      <td>train</td>\n",
       "      <td>and it's a really big bad thing about it</td>\n",
       "      <td>[, and, it's, a, really, big, bad, thing, about, it, , ]</td>\n",
       "      <td>realli big bad thing</td>\n",
       "    </tr>\n",
       "  </tbody>\n",
       "</table>\n",
       "</div>"
      ],
      "text/plain": [
       "  airline_sentiment  \\\n",
       "0  neutral            \n",
       "1  positive           \n",
       "2  neutral            \n",
       "3  negative           \n",
       "4  negative           \n",
       "\n",
       "                                                                                                                             text  \\\n",
       "0  @VirginAmerica What @dhepburn said.                                                                                              \n",
       "1  @VirginAmerica plus you've added commercials to the experience... tacky.                                                         \n",
       "2  @VirginAmerica I didn't today... Must mean I need to take another trip!                                                          \n",
       "3  @VirginAmerica it's really aggressive to blast obnoxious \"entertainment\" in your guests' faces &amp; they have little recourse   \n",
       "4  @VirginAmerica and it's a really big bad thing about it                                                                          \n",
       "\n",
       "  purpose  \\\n",
       "0  train    \n",
       "1  train    \n",
       "2  train    \n",
       "3  test     \n",
       "4  train    \n",
       "\n",
       "                                                                                                                text0  \\\n",
       "0   what  said.                                                                                                         \n",
       "1   plus you've added commercials to the experience... tacky.                                                           \n",
       "2   i didn't today... must mean i need to take another trip!                                                            \n",
       "3   it's really aggressive to blast obnoxious \"entertainment\" in your guests' faces &amp; they have little recourse     \n",
       "4   and it's a really big bad thing about it                                                                            \n",
       "\n",
       "                                                                                                                               corpus_gensim  \\\n",
       "0  [, what, , said, , , ]                                                                                                                      \n",
       "1  [, plus, you've, added, commercials, to, the, experience, , , , tacky, , , ]                                                                \n",
       "2  [, i, didn't, today, , , , must, mean, i, need, to, take, another, trip, , , ]                                                              \n",
       "3  [, it's, really, aggressive, to, blast, obnoxious, , entertainment, , in, your, guests, faces, , amp, , they, have, little, recourse, , ]   \n",
       "4  [, and, it's, a, really, big, bad, thing, about, it, , ]                                                                                    \n",
       "\n",
       "                                                           corpus_bow  \n",
       "0  said                                                                \n",
       "1  plu youv ad commerci experi tacki                                   \n",
       "2  didnt today must mean need take anoth trip                          \n",
       "3  realli aggress blast obnoxi entertain guest face amp littl recours  \n",
       "4  realli big bad thing                                                "
      ]
     },
     "execution_count": 7,
     "metadata": {},
     "output_type": "execute_result"
    }
   ],
   "source": [
    "dfT=df0.copy()\n",
    "dfT=getTokens(dfT)\n",
    "dfT.head(5)"
   ]
  },
  {
   "cell_type": "code",
   "execution_count": 8,
   "metadata": {},
   "outputs": [],
   "source": [
    "# Add a feature with a rule-based sentiment analyser \"VADER\"\n",
    "analyser = SentimentIntensityAnalyzer()\n",
    "dfT[\"VADER\"]=dfT[\"text0\"].map(lambda x :analyser.polarity_scores(x)[\"compound\"])\n",
    "# Hutto, C.J. & Gilbert, E.E. (2014). VADER: A Parsimonious Rule-based Model for Sentiment Analysis of Social Media Text. \n",
    "# Eighth International Conference on Weblogs and Social Media (ICWSM-14). Ann Arbor, MI, June 2014."
   ]
  },
  {
   "cell_type": "markdown",
   "metadata": {},
   "source": [
    "### *Behind the Code: Rule-Based Sentiment Analyser VADER*\n",
    "#### *1. Examples of most positive and most negative read tweets*"
   ]
  },
  {
   "cell_type": "code",
   "execution_count": 9,
   "metadata": {},
   "outputs": [
    {
     "data": {
      "text/html": [
       "<div>\n",
       "<style scoped>\n",
       "    .dataframe tbody tr th:only-of-type {\n",
       "        vertical-align: middle;\n",
       "    }\n",
       "\n",
       "    .dataframe tbody tr th {\n",
       "        vertical-align: top;\n",
       "    }\n",
       "\n",
       "    .dataframe thead th {\n",
       "        text-align: right;\n",
       "    }\n",
       "</style>\n",
       "<table border=\"1\" class=\"dataframe\">\n",
       "  <thead>\n",
       "    <tr style=\"text-align: right;\">\n",
       "      <th></th>\n",
       "      <th>airline_sentiment</th>\n",
       "      <th>text</th>\n",
       "      <th>purpose</th>\n",
       "      <th>text0</th>\n",
       "      <th>corpus_gensim</th>\n",
       "      <th>corpus_bow</th>\n",
       "      <th>VADER</th>\n",
       "    </tr>\n",
       "  </thead>\n",
       "  <tbody>\n",
       "    <tr>\n",
       "      <th>7139</th>\n",
       "      <td>positive</td>\n",
       "      <td>@JetBlue  hahah 😂👌👌👌 love flying jet blue tho!! http://t.co/7VeE44MACM</td>\n",
       "      <td>train</td>\n",
       "      <td>hahah 😂👌👌👌 love flying jet blue tho!!  face with tears of joy ok hand</td>\n",
       "      <td>[, , hahah, , , , , , love, flying, jet, blue, tho, , , , face, with, tears, of, joy, ok, hand, , ]</td>\n",
       "      <td>hahah love fli jet blue tho face tear joy ok hand</td>\n",
       "      <td>0.9866</td>\n",
       "    </tr>\n",
       "    <tr>\n",
       "      <th>13794</th>\n",
       "      <td>negative</td>\n",
       "      <td>@AmericanAir that luggage you forgot...#mia.....he just won an oscar😄💝💝💝</td>\n",
       "      <td>train</td>\n",
       "      <td>that luggage you forgot...#mia.....he just won an oscar😄💝💝💝 heart with ribbon grinning face with smiling eyes</td>\n",
       "      <td>[, that, luggage, you, forgot, , , , mia, , , , , he, just, won, an, oscar, , , , , heart, with, ribbon, grinning, face, with, smiling, eyes, , ]</td>\n",
       "      <td>luggag forgot mia won oscar heart ribbon grin face smile eye</td>\n",
       "      <td>0.9855</td>\n",
       "    </tr>\n",
       "    <tr>\n",
       "      <th>238</th>\n",
       "      <td>positive</td>\n",
       "      <td>@VirginAmerica hahaha 😂@VirginAmerica YOU GUYS ARE AMAZING. I LOVE YOU GUYS!!!💗</td>\n",
       "      <td>test</td>\n",
       "      <td>hahaha 😂 you guys are amazing. i love you guys!!!💗 face with tears of joy growing heart</td>\n",
       "      <td>[, hahaha, , , you, guys, are, amazing, , i, love, you, guys, , , , , face, with, tears, of, joy, growing, heart, , ]</td>\n",
       "      <td>hahaha guy amaz love guy face tear joy grow heart</td>\n",
       "      <td>0.9835</td>\n",
       "    </tr>\n",
       "  </tbody>\n",
       "</table>\n",
       "</div>"
      ],
      "text/plain": [
       "      airline_sentiment  \\\n",
       "7139   positive           \n",
       "13794  negative           \n",
       "238    positive           \n",
       "\n",
       "                                                                                  text  \\\n",
       "7139   @JetBlue  hahah 😂👌👌👌 love flying jet blue tho!! http://t.co/7VeE44MACM            \n",
       "13794  @AmericanAir that luggage you forgot...#mia.....he just won an oscar😄💝💝💝          \n",
       "238    @VirginAmerica hahaha 😂@VirginAmerica YOU GUYS ARE AMAZING. I LOVE YOU GUYS!!!💗   \n",
       "\n",
       "      purpose  \\\n",
       "7139   train    \n",
       "13794  train    \n",
       "238    test     \n",
       "\n",
       "                                                                                                                  text0  \\\n",
       "7139     hahah 😂👌👌👌 love flying jet blue tho!!  face with tears of joy ok hand                                            \n",
       "13794   that luggage you forgot...#mia.....he just won an oscar😄💝💝💝 heart with ribbon grinning face with smiling eyes     \n",
       "238     hahaha 😂 you guys are amazing. i love you guys!!!💗 face with tears of joy growing heart                           \n",
       "\n",
       "                                                                                                                                           corpus_gensim  \\\n",
       "7139   [, , hahah, , , , , , love, flying, jet, blue, tho, , , , face, with, tears, of, joy, ok, hand, , ]                                                 \n",
       "13794  [, that, luggage, you, forgot, , , , mia, , , , , he, just, won, an, oscar, , , , , heart, with, ribbon, grinning, face, with, smiling, eyes, , ]   \n",
       "238    [, hahaha, , , you, guys, are, amazing, , i, love, you, guys, , , , , face, with, tears, of, joy, growing, heart, , ]                               \n",
       "\n",
       "                                                         corpus_bow   VADER  \n",
       "7139   hahah love fli jet blue tho face tear joy ok hand             0.9866  \n",
       "13794  luggag forgot mia won oscar heart ribbon grin face smile eye  0.9855  \n",
       "238    hahaha guy amaz love guy face tear joy grow heart             0.9835  "
      ]
     },
     "execution_count": 9,
     "metadata": {},
     "output_type": "execute_result"
    }
   ],
   "source": [
    "dfT.nlargest(3, 'VADER')"
   ]
  },
  {
   "cell_type": "code",
   "execution_count": 10,
   "metadata": {},
   "outputs": [
    {
     "data": {
      "text/html": [
       "<div>\n",
       "<style scoped>\n",
       "    .dataframe tbody tr th:only-of-type {\n",
       "        vertical-align: middle;\n",
       "    }\n",
       "\n",
       "    .dataframe tbody tr th {\n",
       "        vertical-align: top;\n",
       "    }\n",
       "\n",
       "    .dataframe thead th {\n",
       "        text-align: right;\n",
       "    }\n",
       "</style>\n",
       "<table border=\"1\" class=\"dataframe\">\n",
       "  <thead>\n",
       "    <tr style=\"text-align: right;\">\n",
       "      <th></th>\n",
       "      <th>airline_sentiment</th>\n",
       "      <th>text</th>\n",
       "      <th>purpose</th>\n",
       "      <th>text0</th>\n",
       "      <th>corpus_gensim</th>\n",
       "      <th>corpus_bow</th>\n",
       "      <th>VADER</th>\n",
       "    </tr>\n",
       "  </thead>\n",
       "  <tbody>\n",
       "    <tr>\n",
       "      <th>11702</th>\n",
       "      <td>positive</td>\n",
       "      <td>@USAirways YOU ARE THE BEST AIRWAYS!!!!!!!!!! FOLLOW ME BACK, PLEASE 🙏🙏🙏🙏🙏🙏🙏🙏🙏🙏🙏😢😢😢😢😢😢😢😢🙏🙏🙏🙏🙏🙏🙏🙏🙏🙏🙏🙏🙏🙏🙏🙏🙏🙏🙏🙏🙏</td>\n",
       "      <td>train</td>\n",
       "      <td>you are the best airways!!!!!!!!!! follow me back, please 🙏🙏🙏🙏🙏🙏🙏🙏🙏🙏🙏😢😢😢😢😢😢😢😢🙏🙏🙏🙏🙏🙏🙏🙏🙏🙏🙏🙏🙏🙏🙏🙏🙏🙏🙏🙏🙏 crying face folded hands</td>\n",
       "      <td>[, you, are, the, best, airways, , , , , , , , , , , follow, me, back, , please, , , , , , , , , , , , , , , , , , , , , , , , , , , , , , , , , , , , , , , , , , crying, face, folded, hands, , ]</td>\n",
       "      <td>best airway follow back pleas cri face fold hand</td>\n",
       "      <td>-0.9704</td>\n",
       "    </tr>\n",
       "    <tr>\n",
       "      <th>1214</th>\n",
       "      <td>negative</td>\n",
       "      <td>@united is the worst. Worst reservation policies. Worst costumer service. Worst worst worst. Congrats, @Delta you're not that bad!</td>\n",
       "      <td>train</td>\n",
       "      <td>is the worst. worst reservation policies. worst costumer service. worst worst worst. congrats,  you're not that bad!</td>\n",
       "      <td>[, is, the, worst, , worst, reservation, policies, , worst, costumer, service, , worst, worst, worst, , congrats, , , you're, not, that, bad, , , ]</td>\n",
       "      <td>worst worst reserv polici worst costum servic worst worst worst congrat your not bad</td>\n",
       "      <td>-0.9668</td>\n",
       "    </tr>\n",
       "    <tr>\n",
       "      <th>5266</th>\n",
       "      <td>neutral</td>\n",
       "      <td>@SouthwestAir microsecond too Late Flight so very very sad 😂😂😂😂😂😭😭😭😭😢😢😢😢</td>\n",
       "      <td>train</td>\n",
       "      <td>microsecond too late flight so very very sad 😂😂😂😂😂😭😭😭😭😢😢😢😢 face with tears of joy crying face loudly crying face</td>\n",
       "      <td>[, microsecond, too, late, flight, so, very, very, sad, , , , , , , , , , , , , , , face, with, tears, of, joy, crying, face, loudly, crying, face, , ]</td>\n",
       "      <td>microsecond late flight sad face tear joy cri face loudli cri face</td>\n",
       "      <td>-0.9554</td>\n",
       "    </tr>\n",
       "  </tbody>\n",
       "</table>\n",
       "</div>"
      ],
      "text/plain": [
       "      airline_sentiment  \\\n",
       "11702  positive           \n",
       "1214   negative           \n",
       "5266   neutral            \n",
       "\n",
       "                                                                                                                                     text  \\\n",
       "11702  @USAirways YOU ARE THE BEST AIRWAYS!!!!!!!!!! FOLLOW ME BACK, PLEASE 🙏🙏🙏🙏🙏🙏🙏🙏🙏🙏🙏😢😢😢😢😢😢😢😢🙏🙏🙏🙏🙏🙏🙏🙏🙏🙏🙏🙏🙏🙏🙏🙏🙏🙏🙏🙏🙏                        \n",
       "1214   @united is the worst. Worst reservation policies. Worst costumer service. Worst worst worst. Congrats, @Delta you're not that bad!   \n",
       "5266   @SouthwestAir microsecond too Late Flight so very very sad 😂😂😂😂😂😭😭😭😭😢😢😢😢                                                             \n",
       "\n",
       "      purpose  \\\n",
       "11702  train    \n",
       "1214   train    \n",
       "5266   train    \n",
       "\n",
       "                                                                                                                                text0  \\\n",
       "11702   you are the best airways!!!!!!!!!! follow me back, please 🙏🙏🙏🙏🙏🙏🙏🙏🙏🙏🙏😢😢😢😢😢😢😢😢🙏🙏🙏🙏🙏🙏🙏🙏🙏🙏🙏🙏🙏🙏🙏🙏🙏🙏🙏🙏🙏 crying face folded hands     \n",
       "1214    is the worst. worst reservation policies. worst costumer service. worst worst worst. congrats,  you're not that bad!            \n",
       "5266    microsecond too late flight so very very sad 😂😂😂😂😂😭😭😭😭😢😢😢😢 face with tears of joy crying face loudly crying face                \n",
       "\n",
       "                                                                                                                                                                                             corpus_gensim  \\\n",
       "11702  [, you, are, the, best, airways, , , , , , , , , , , follow, me, back, , please, , , , , , , , , , , , , , , , , , , , , , , , , , , , , , , , , , , , , , , , , , crying, face, folded, hands, , ]   \n",
       "1214   [, is, the, worst, , worst, reservation, policies, , worst, costumer, service, , worst, worst, worst, , congrats, , , you're, not, that, bad, , , ]                                                   \n",
       "5266   [, microsecond, too, late, flight, so, very, very, sad, , , , , , , , , , , , , , , face, with, tears, of, joy, crying, face, loudly, crying, face, , ]                                               \n",
       "\n",
       "                                                                                 corpus_bow  \\\n",
       "11702  best airway follow back pleas cri face fold hand                                       \n",
       "1214   worst worst reserv polici worst costum servic worst worst worst congrat your not bad   \n",
       "5266   microsecond late flight sad face tear joy cri face loudli cri face                     \n",
       "\n",
       "        VADER  \n",
       "11702 -0.9704  \n",
       "1214  -0.9668  \n",
       "5266  -0.9554  "
      ]
     },
     "execution_count": 10,
     "metadata": {},
     "output_type": "execute_result"
    }
   ],
   "source": [
    "dfT.nsmallest(3, 'VADER')"
   ]
  },
  {
   "cell_type": "markdown",
   "metadata": {},
   "source": [
    "#### *2. Examples of Misjudgement*\n",
    "Tweets that are labeled different to the VADER sentiment "
   ]
  },
  {
   "cell_type": "code",
   "execution_count": 11,
   "metadata": {},
   "outputs": [
    {
     "data": {
      "text/html": [
       "<div>\n",
       "<style scoped>\n",
       "    .dataframe tbody tr th:only-of-type {\n",
       "        vertical-align: middle;\n",
       "    }\n",
       "\n",
       "    .dataframe tbody tr th {\n",
       "        vertical-align: top;\n",
       "    }\n",
       "\n",
       "    .dataframe thead th {\n",
       "        text-align: right;\n",
       "    }\n",
       "</style>\n",
       "<table border=\"1\" class=\"dataframe\">\n",
       "  <thead>\n",
       "    <tr style=\"text-align: right;\">\n",
       "      <th></th>\n",
       "      <th>airline_sentiment</th>\n",
       "      <th>text</th>\n",
       "      <th>purpose</th>\n",
       "      <th>text0</th>\n",
       "      <th>corpus_gensim</th>\n",
       "      <th>corpus_bow</th>\n",
       "      <th>VADER</th>\n",
       "    </tr>\n",
       "  </thead>\n",
       "  <tbody>\n",
       "    <tr>\n",
       "      <th>752</th>\n",
       "      <td>negative</td>\n",
       "      <td>@united The bright side would be keeping the promise that was made to me. Hope you're having a good night. Thanks.</td>\n",
       "      <td>train</td>\n",
       "      <td>the bright side would be keeping the promise that was made to me. hope you're having a good night. thanks.</td>\n",
       "      <td>[, the, bright, side, would, be, keeping, the, promise, that, was, made, to, me, , hope, you're, having, a, good, night, , thanks, , , ]</td>\n",
       "      <td>bright side would keep promis made hope your good night thank</td>\n",
       "      <td>0.9169</td>\n",
       "    </tr>\n",
       "    <tr>\n",
       "      <th>1072</th>\n",
       "      <td>negative</td>\n",
       "      <td>@united Thanks! I'll fill up the form as soon as I land. I don't like being duped so I hope you will appreciate my feedback &amp;amp; will be better</td>\n",
       "      <td>train</td>\n",
       "      <td>thanks! i'll fill up the form as soon as i land. i don't like being duped so i hope you will appreciate my feedback &amp;amp; will be better</td>\n",
       "      <td>[, thanks, , i'll, fill, up, the, form, as, soon, as, i, land, , i, don't, like, being, duped, so, i, hope, you, will, appreciate, my, feedback, , amp, , will, be, better, , ]</td>\n",
       "      <td>thank ill fill form soon land dont like dupe hope appreci feedback amp better</td>\n",
       "      <td>0.9041</td>\n",
       "    </tr>\n",
       "    <tr>\n",
       "      <th>1666</th>\n",
       "      <td>negative</td>\n",
       "      <td>@united of course. But interesting how United doesn't seem to have a good sense on what's happening with flight</td>\n",
       "      <td>test</td>\n",
       "      <td>of course. but interesting how united doesn't seem to have a good sense on what's happening with flight</td>\n",
       "      <td>[, of, course, , but, interesting, how, united, doesn't, seem, to, have, a, good, sense, on, what's, happening, with, flight, , ]</td>\n",
       "      <td>cours interest unit doesnt seem good sens what happen flight</td>\n",
       "      <td>0.9022</td>\n",
       "    </tr>\n",
       "  </tbody>\n",
       "</table>\n",
       "</div>"
      ],
      "text/plain": [
       "     airline_sentiment  \\\n",
       "752   negative           \n",
       "1072  negative           \n",
       "1666  negative           \n",
       "\n",
       "                                                                                                                                                  text  \\\n",
       "752   @united The bright side would be keeping the promise that was made to me. Hope you're having a good night. Thanks.                                 \n",
       "1072  @united Thanks! I'll fill up the form as soon as I land. I don't like being duped so I hope you will appreciate my feedback &amp; will be better   \n",
       "1666  @united of course. But interesting how United doesn't seem to have a good sense on what's happening with flight                                    \n",
       "\n",
       "     purpose  \\\n",
       "752   train    \n",
       "1072  train    \n",
       "1666  test     \n",
       "\n",
       "                                                                                                                                            text0  \\\n",
       "752    the bright side would be keeping the promise that was made to me. hope you're having a good night. thanks.                                   \n",
       "1072   thanks! i'll fill up the form as soon as i land. i don't like being duped so i hope you will appreciate my feedback &amp; will be better     \n",
       "1666   of course. but interesting how united doesn't seem to have a good sense on what's happening with flight                                      \n",
       "\n",
       "                                                                                                                                                                        corpus_gensim  \\\n",
       "752   [, the, bright, side, would, be, keeping, the, promise, that, was, made, to, me, , hope, you're, having, a, good, night, , thanks, , , ]                                          \n",
       "1072  [, thanks, , i'll, fill, up, the, form, as, soon, as, i, land, , i, don't, like, being, duped, so, i, hope, you, will, appreciate, my, feedback, , amp, , will, be, better, , ]   \n",
       "1666  [, of, course, , but, interesting, how, united, doesn't, seem, to, have, a, good, sense, on, what's, happening, with, flight, , ]                                                 \n",
       "\n",
       "                                                                         corpus_bow  \\\n",
       "752   bright side would keep promis made hope your good night thank                   \n",
       "1072  thank ill fill form soon land dont like dupe hope appreci feedback amp better   \n",
       "1666  cours interest unit doesnt seem good sens what happen flight                    \n",
       "\n",
       "       VADER  \n",
       "752   0.9169  \n",
       "1072  0.9041  \n",
       "1666  0.9022  "
      ]
     },
     "execution_count": 11,
     "metadata": {},
     "output_type": "execute_result"
    }
   ],
   "source": [
    "dfT[(dfT.VADER>0.9) & (dfT.airline_sentiment==\"negative\")].head(3)"
   ]
  },
  {
   "cell_type": "code",
   "execution_count": 12,
   "metadata": {},
   "outputs": [
    {
     "data": {
      "text/html": [
       "<div>\n",
       "<style scoped>\n",
       "    .dataframe tbody tr th:only-of-type {\n",
       "        vertical-align: middle;\n",
       "    }\n",
       "\n",
       "    .dataframe tbody tr th {\n",
       "        vertical-align: top;\n",
       "    }\n",
       "\n",
       "    .dataframe thead th {\n",
       "        text-align: right;\n",
       "    }\n",
       "</style>\n",
       "<table border=\"1\" class=\"dataframe\">\n",
       "  <thead>\n",
       "    <tr style=\"text-align: right;\">\n",
       "      <th></th>\n",
       "      <th>airline_sentiment</th>\n",
       "      <th>text</th>\n",
       "      <th>purpose</th>\n",
       "      <th>text0</th>\n",
       "      <th>corpus_gensim</th>\n",
       "      <th>corpus_bow</th>\n",
       "      <th>VADER</th>\n",
       "    </tr>\n",
       "  </thead>\n",
       "  <tbody>\n",
       "    <tr>\n",
       "      <th>1617</th>\n",
       "      <td>positive</td>\n",
       "      <td>@united thanks for updating me about the 1+ hour delay the exact second I got to ATL. 🙅🙅🙅</td>\n",
       "      <td>train</td>\n",
       "      <td>thanks for updating me about the 1+ hour delay the exact second i got to atl. 🙅🙅🙅 person gesturing no</td>\n",
       "      <td>[, thanks, for, updating, me, about, the, , , , hour, delay, the, exact, second, i, got, to, atl, , , , , , person, gesturing, no, , ]</td>\n",
       "      <td>thank updat hour delay exact second got atl person gestur no</td>\n",
       "      <td>-0.8555</td>\n",
       "    </tr>\n",
       "    <tr>\n",
       "      <th>4614</th>\n",
       "      <td>positive</td>\n",
       "      <td>@SouthwestAir What can we do to bring you back to Jackson, MS?! We miss you terribly around here. These other airlines are horrible!!</td>\n",
       "      <td>train</td>\n",
       "      <td>what can we do to bring you back to jackson, ms?! we miss you terribly around here. these other airlines are horrible!!</td>\n",
       "      <td>[, what, can, we, do, to, bring, you, back, to, jackson, , ms, , , we, miss, you, terribly, around, here, , these, other, airlines, are, horrible, , , , ]</td>\n",
       "      <td>bring back jackson ms miss terribl around airlin horribl</td>\n",
       "      <td>-0.8617</td>\n",
       "    </tr>\n",
       "    <tr>\n",
       "      <th>5510</th>\n",
       "      <td>positive</td>\n",
       "      <td>@SouthwestAir I wish i would've seen this 4 hours ago!!! I WANTED TO SEE THEM TONIGHT SO BAD!!!! #CRYING</td>\n",
       "      <td>train</td>\n",
       "      <td>i wish i would've seen this 4 hours ago!!! i wanted to see them tonight so bad!!!! #crying</td>\n",
       "      <td>[, i, wish, i, would've, seen, this, , , hours, ago, , , , i, wanted, to, see, them, tonight, so, bad, , , , , , crying, , ]</td>\n",
       "      <td>wish wouldv seen hour ago want see tonight bad cri</td>\n",
       "      <td>-0.8094</td>\n",
       "    </tr>\n",
       "  </tbody>\n",
       "</table>\n",
       "</div>"
      ],
      "text/plain": [
       "     airline_sentiment  \\\n",
       "1617  positive           \n",
       "4614  positive           \n",
       "5510  positive           \n",
       "\n",
       "                                                                                                                                       text  \\\n",
       "1617  @united thanks for updating me about the 1+ hour delay the exact second I got to ATL. 🙅🙅🙅                                               \n",
       "4614  @SouthwestAir What can we do to bring you back to Jackson, MS?! We miss you terribly around here. These other airlines are horrible!!   \n",
       "5510  @SouthwestAir I wish i would've seen this 4 hours ago!!! I WANTED TO SEE THEM TONIGHT SO BAD!!!! #CRYING                                \n",
       "\n",
       "     purpose  \\\n",
       "1617  train    \n",
       "4614  train    \n",
       "5510  train    \n",
       "\n",
       "                                                                                                                           text0  \\\n",
       "1617   thanks for updating me about the 1+ hour delay the exact second i got to atl. 🙅🙅🙅 person gesturing no                       \n",
       "4614   what can we do to bring you back to jackson, ms?! we miss you terribly around here. these other airlines are horrible!!     \n",
       "5510   i wish i would've seen this 4 hours ago!!! i wanted to see them tonight so bad!!!! #crying                                  \n",
       "\n",
       "                                                                                                                                                   corpus_gensim  \\\n",
       "1617  [, thanks, for, updating, me, about, the, , , , hour, delay, the, exact, second, i, got, to, atl, , , , , , person, gesturing, no, , ]                       \n",
       "4614  [, what, can, we, do, to, bring, you, back, to, jackson, , ms, , , we, miss, you, terribly, around, here, , these, other, airlines, are, horrible, , , , ]   \n",
       "5510  [, i, wish, i, would've, seen, this, , , hours, ago, , , , i, wanted, to, see, them, tonight, so, bad, , , , , , crying, , ]                                 \n",
       "\n",
       "                                                        corpus_bow   VADER  \n",
       "1617  thank updat hour delay exact second got atl person gestur no -0.8555  \n",
       "4614  bring back jackson ms miss terribl around airlin horribl     -0.8617  \n",
       "5510  wish wouldv seen hour ago want see tonight bad cri           -0.8094  "
      ]
     },
     "execution_count": 12,
     "metadata": {},
     "output_type": "execute_result"
    }
   ],
   "source": [
    "dfT[(dfT.VADER<-0.8) & (dfT.airline_sentiment==\"positive\")].head(3)"
   ]
  },
  {
   "cell_type": "code",
   "execution_count": 13,
   "metadata": {},
   "outputs": [],
   "source": [
    "# This takes a couple of min\n",
    "gensim_model = KeyedVectors.load_word2vec_format('crawl-300d-2M.vec')\n",
    "# download from https://fasttext.cc/docs/en/english-vectors.html\n",
    "# T. Mikolov, E. Grave, P. Bojanowski, C. Puhrsch, A. Joulin. Advances in Pre-Training Distributed Word Representations"
   ]
  },
  {
   "cell_type": "code",
   "execution_count": 14,
   "metadata": {},
   "outputs": [],
   "source": [
    "def tweet_vectorizer(tweet, model):\n",
    "    '''This function creates the embedding for the whole tweet by averaging over each of the\n",
    "    the word embeddings.'''\n",
    "    sent_vec =[]\n",
    "    numw = 0\n",
    "    for word in tweet:\n",
    "        try:\n",
    "            if numw == 0:\n",
    "                sent_vec = model[word]\n",
    "            else:\n",
    "                sent_vec = np.add(sent_vec, model[word])\n",
    "            numw+=1\n",
    "        except:\n",
    "            pass\n",
    "    if len(sent_vec)==0:\n",
    "        return (np.asarray([0]*300))\n",
    "    return (np.asarray(sent_vec) / numw)\n",
    "\n",
    "def getFeatures(df, tfidf_dim, ngram, model):\n",
    "    '''This function creates word embeddings in two ways \n",
    "    and adds those embeddings to the dataframe.'''\n",
    "    \n",
    "    ## 1. Relative Bag-of-Words (tf-idf) ##\n",
    "    cv = CountVectorizer(max_features = tfidf_dim, ngram_range=ngram)\n",
    "    # using relative word counts instead of absolute ones\n",
    "    tfidf_transformer = TfidfTransformer()\n",
    "    bow = cv.fit_transform(df[\"corpus_bow\"]).toarray()\n",
    "    tfidf = tfidf_transformer.fit_transform(bow).toarray()\n",
    "    tfidf=list(tfidf)\n",
    "    df[\"tfidf\"]=tfidf\n",
    "    # Adding new columns, a column for each dimension of word vector\n",
    "    for i in range(tfidf_dim):\n",
    "            df[f\"tfidf_{str(i)}\"] = df[\"tfidf\"].apply(lambda x : x[i])\n",
    "        \n",
    "    ## 2. pre-trained FastText Word Embedding\n",
    "    df.loc[:,\"embedded_tweet_vector\"]=df[\"corpus_gensim\"].apply(lambda x: tweet_vectorizer(x, model))\n",
    "    # Adding new columns, a column for each dimension of word vector\n",
    "    for i in range(300):\n",
    "        df.loc[:,f\"gensim_{str(i)}\"] = df[\"embedded_tweet_vector\"].apply(lambda x : x[i])\n",
    "    return(df)"
   ]
  },
  {
   "cell_type": "code",
   "execution_count": 15,
   "metadata": {},
   "outputs": [],
   "source": [
    "dfF=dfT.copy()\n",
    "# Using top 600 (1-3)-grams\n",
    "dfF=getFeatures(dfF,600,(1,3),gensim_model)"
   ]
  },
  {
   "cell_type": "markdown",
   "metadata": {},
   "source": [
    "### *Behind the Code: What top \"(2-3)-grams\" are the most common in the data?*"
   ]
  },
  {
   "cell_type": "code",
   "execution_count": 16,
   "metadata": {},
   "outputs": [
    {
     "data": {
      "text/plain": [
       "{'book problem': 145,\n",
       " 'call back': 117,\n",
       " 'cancel flight': 434,\n",
       " 'cancel flight flight': 151,\n",
       " 'cancel flightl': 526,\n",
       " 'cancel flightl flight': 138,\n",
       " 'cant get': 119,\n",
       " 'custom servic': 570,\n",
       " 'fleet fleek': 146,\n",
       " 'flight book': 110,\n",
       " 'flight cancel': 235,\n",
       " 'flight cancel flightl': 154,\n",
       " 'flight delay': 164,\n",
       " 'flight flight': 169,\n",
       " 'flightl flight': 138,\n",
       " 'hold hour': 133,\n",
       " 'late flight': 250,\n",
       " 'late flightr': 158,\n",
       " 'miss connect': 113,\n",
       " 'no one': 131}"
      ]
     },
     "execution_count": 16,
     "metadata": {},
     "output_type": "execute_result"
    }
   ],
   "source": [
    "cv = CountVectorizer(max_features = 20, ngram_range=(2,3))\n",
    "bow = cv.fit_transform(dfT[\"corpus_bow\"]).toarray()\n",
    "dict(zip(cv.get_feature_names(),np.asarray(bow.sum(axis=0)).ravel()))"
   ]
  },
  {
   "cell_type": "markdown",
   "metadata": {},
   "source": [
    "### *Behind the Code: Getting an Intuition for fastText's Word Embedding*\n",
    "#### *1. Most similar words*"
   ]
  },
  {
   "cell_type": "code",
   "execution_count": 17,
   "metadata": {},
   "outputs": [
    {
     "name": "stdout",
     "output_type": "stream",
     "text": [
      "[('dissapointed', 0.8315879702568054), ('dissappointed', 0.826554536819458), ('disapointed', 0.7895401120185852), ('disapppointed', 0.7551141977310181), ('diappointed', 0.7392339706420898), ('disppointed', 0.7367231845855713), ('disheartened', 0.7293992638587952), ('disappointing', 0.7167659997940063), ('disapponted', 0.7113564014434814), ('dismayed', 0.7051864862442017)]\n"
     ]
    }
   ],
   "source": [
    "print(gensim_model.most_similar('disappointed'))"
   ]
  },
  {
   "cell_type": "code",
   "execution_count": 18,
   "metadata": {},
   "outputs": [
    {
     "name": "stdout",
     "output_type": "stream",
     "text": [
      "[('wouldnt', 0.849150538444519), ('didint', 0.8336474895477295), ('couldnt', 0.8300750255584717), ('Didnt', 0.8010633587837219), ('diddnt', 0.7912237644195557), ('dont', 0.7839059829711914), ('doesnt', 0.7829113006591797), ('dident', 0.7668754458427429), ('ddint', 0.7568346261978149), ('wasnt', 0.7561928033828735)]\n"
     ]
    }
   ],
   "source": [
    "print(gensim_model.most_similar('didnt'))"
   ]
  },
  {
   "cell_type": "code",
   "execution_count": 19,
   "metadata": {},
   "outputs": [
    {
     "name": "stdout",
     "output_type": "stream",
     "text": [
      "[('annoying', 0.7876083850860596), ('obnoxiously', 0.7467677593231201), ('abnoxious', 0.7411515712738037), ('insufferable', 0.7209519147872925), ('irritating', 0.7104653120040894), ('Obnoxious', 0.7014889717102051), ('boorish', 0.6725412607192993), ('obnoxiousness', 0.6718343496322632), ('OBNOXIOUS', 0.6691552400588989), ('overbearing', 0.66034996509552)]\n"
     ]
    }
   ],
   "source": [
    "print(gensim_model.most_similar('obnoxious'))"
   ]
  },
  {
   "cell_type": "markdown",
   "metadata": {},
   "source": [
    "#### *2. Similarity of words to \"happy\" and \"sad\" as proxies for positive and negative sentiment*"
   ]
  },
  {
   "cell_type": "code",
   "execution_count": 20,
   "metadata": {},
   "outputs": [],
   "source": [
    "def word_distance(word1,word2,word3):\n",
    "    '''This function compares the distance in the embedding space \n",
    "    between two words and another word (word1)'''\n",
    "    list1 = gensim_model[word1]\n",
    "    list2 = gensim_model[word2]\n",
    "    list3 = gensim_model[word3]\n",
    "    diff12 = [a - b for a, b in zip(list1, list2)]\n",
    "    diff13 = [a - b for a, b in zip(list1, list3)]\n",
    "    diff12=map(abs, diff12)\n",
    "    diff13=map(abs, diff13)\n",
    "    print(f'The distance between the word \"{word1}\" and the word \"{word2}\" is', sum(diff12))\n",
    "    print(f'The distance between the word \"{word1}\" and the word \"{word3}\" is', sum(diff13))\n",
    "    print(\"\\n\")"
   ]
  },
  {
   "cell_type": "code",
   "execution_count": 21,
   "metadata": {},
   "outputs": [
    {
     "name": "stdout",
     "output_type": "stream",
     "text": [
      "The distance between the word \"late\" and the word \"punctual\" is 71.43720005825162\n",
      "The distance between the word \"late\" and the word \"delayed\" is 54.68210012000054\n",
      "\n",
      "\n",
      "The distance between the word \"thank\" and the word \"happy\" is 64.1974000679329\n",
      "The distance between the word \"thank\" and the word \"sad\" is 68.20630018785596\n",
      "\n",
      "\n",
      "The distance between the word \"psyched\" and the word \"happy\" is 59.77450000401586\n",
      "The distance between the word \"psyched\" and the word \"sad\" is 67.4953998811543\n",
      "\n",
      "\n",
      "The distance between the word \"bummer\" and the word \"happy\" is 59.47830008715391\n",
      "The distance between the word \"bummer\" and the word \"sad\" is 51.9664000896737\n",
      "\n",
      "\n"
     ]
    }
   ],
   "source": [
    "# Does it have flight and task related \"understanding\"\n",
    "word_distance(\"late\",\"punctual\",\"delayed\")\n",
    "word_distance(\"thank\",\"happy\",\"sad\")\n",
    "# Does it \"understand\" colloquial language?\n",
    "word_distance(\"psyched\",\"happy\",\"sad\")\n",
    "word_distance(\"bummer\",\"happy\",\"sad\")"
   ]
  },
  {
   "cell_type": "markdown",
   "metadata": {},
   "source": [
    "#### Potential Additional Features\n",
    "Length, Explanation Marks, Question Marks"
   ]
  },
  {
   "cell_type": "markdown",
   "metadata": {},
   "source": [
    "# 2. Training Classification Models"
   ]
  },
  {
   "cell_type": "markdown",
   "metadata": {},
   "source": [
    "### Creating test and train set with various feature sets"
   ]
  },
  {
   "cell_type": "code",
   "execution_count": 22,
   "metadata": {},
   "outputs": [],
   "source": [
    "df_train=dfF[dfF.purpose==\"train\"]\n",
    "df_test=dfF[dfF.purpose==\"test\"]\n",
    "y_train = df_train[[\"airline_sentiment\"]]\n",
    "y_test = df_test[[\"airline_sentiment\"]]\n",
    "gensim_columns=[f\"gensim_{i}\" for i in range(300)]\n",
    "tfidf_columns=[f\"tfidf_{i}\" for i in range(600)]\n",
    "# Having tested these combinations of features, the full data set performs \n",
    "# best and is used for optimizing hyperparameters\n",
    "X_train_gensim = df_train[gensim_columns]\n",
    "X_test_gensim = df_test[gensim_columns]\n",
    "X_train_tfidf = df_train[tfidf_columns]\n",
    "X_test_tfidf = df_test[tfidf_columns]\n",
    "X_train_both = df_train[tfidf_columns+gensim_columns]\n",
    "X_test_both = df_test[tfidf_columns+gensim_columns]\n",
    "X_train_all = df_train[tfidf_columns+gensim_columns+[\"VADER\"]]\n",
    "X_test_all = df_test[tfidf_columns+gensim_columns+[\"VADER\"]]"
   ]
  },
  {
   "cell_type": "code",
   "execution_count": 23,
   "metadata": {},
   "outputs": [
    {
     "data": {
      "text/plain": [
       "(negative    7342\n",
       " neutral     2479\n",
       " positive    1891\n",
       " Name: airline_sentiment, dtype: int64,\n",
       " negative    1836\n",
       " neutral     620 \n",
       " positive    472 \n",
       " Name: airline_sentiment, dtype: int64)"
      ]
     },
     "execution_count": 23,
     "metadata": {},
     "output_type": "execute_result"
    }
   ],
   "source": [
    "# unbalanced classes, but still ok. Decided against over- or undersampling.\n",
    "y_train.airline_sentiment.value_counts(),y_test.airline_sentiment.value_counts()"
   ]
  },
  {
   "cell_type": "markdown",
   "metadata": {},
   "source": [
    "### Optimizing Hyperparameters for most Promising Classification Models\n",
    "In this case, a neural net and regularized logistic regression "
   ]
  },
  {
   "cell_type": "code",
   "execution_count": 24,
   "metadata": {},
   "outputs": [],
   "source": [
    "def getLogitHyperparameters(X_train,X_test):\n",
    "    '''This function runs Cross Validations for regularization parameters\n",
    "    in a Logistic Regression and returns the accuracy and parameters for the best model.\n",
    "    '''\n",
    "    # Set Parameter Space\n",
    "    penalty=[\"l1\",\"l2\"]\n",
    "    C = [0.01,0.1,1,2]\n",
    "    hyperparameters = dict(C=C, penalty=penalty)\n",
    "    logistic=LogisticRegression(solver='liblinear') # regularization is applied by default\n",
    "    clf = GridSearchCV(logistic, hyperparameters, cv=5, verbose=1)\n",
    "    best_model = clf.fit(X_train, y_train.values.ravel())\n",
    "    print('Best Penalty:', best_model.best_estimator_.get_params()['penalty'])\n",
    "    print('Best Regularization:', best_model.best_estimator_.get_params()['C'])\n",
    "    accuracy_best_logit=best_model.score(X_test,y_test.values.ravel())\n",
    "    print(f\"Test Accuracy Best Logit: {accuracy_best_logit}\")"
   ]
  },
  {
   "cell_type": "code",
   "execution_count": 25,
   "metadata": {},
   "outputs": [
    {
     "name": "stdout",
     "output_type": "stream",
     "text": [
      "Fitting 5 folds for each of 8 candidates, totalling 40 fits\n"
     ]
    },
    {
     "name": "stderr",
     "output_type": "stream",
     "text": [
      "[Parallel(n_jobs=1)]: Using backend SequentialBackend with 1 concurrent workers.\n",
      "[Parallel(n_jobs=1)]: Done  40 out of  40 | elapsed:  1.9min finished\n"
     ]
    },
    {
     "name": "stdout",
     "output_type": "stream",
     "text": [
      "Best Penalty: l2\n",
      "Best Regularization: 1\n",
      "Test Accuracy Best Logit: 0.8121584699453552\n"
     ]
    }
   ],
   "source": [
    "getLogitHyperparameters(X_train_all,X_test_all)\n",
    "# l2 (Ridge Regularization) with c=1 are the default settings here anyway."
   ]
  },
  {
   "cell_type": "code",
   "execution_count": 34,
   "metadata": {},
   "outputs": [],
   "source": [
    "def getNNHyperparameters(X_train,X_test, hls,alpha):\n",
    "    '''This function runs a Multi-layer Perceptron (Neural Net) with hidden-layer size hls\n",
    "    and a regularization parameter alpha on the train set\n",
    "    and returns the respective accuracy on the test set.'''\n",
    "    nn=MLPClassifier(hidden_layer_sizes=hls,alpha=alpha,max_iter=10,random_state=0)\n",
    "    nn.fit(X_train, y_train.values.ravel())\n",
    "    accuracy_nn=nn.score(X_test,y_test.values.ravel())\n",
    "    print(f\"Test Accuracy NN:{accuracy_nn} for Hidden Layers{hls}, alpha={alpha}\")"
   ]
  },
  {
   "cell_type": "code",
   "execution_count": 35,
   "metadata": {},
   "outputs": [
    {
     "name": "stderr",
     "output_type": "stream",
     "text": [
      "C:\\Users\\PegahMaham_8pg0uam\\Anaconda3\\lib\\site-packages\\sklearn\\neural_network\\_multilayer_perceptron.py:585: ConvergenceWarning: Stochastic Optimizer: Maximum iterations (10) reached and the optimization hasn't converged yet.\n",
      "  % self.max_iter, ConvergenceWarning)\n"
     ]
    },
    {
     "name": "stdout",
     "output_type": "stream",
     "text": [
      "Test Accuracy NN:0.8111338797814208 for Hidden Layers[600], alpha=0.01\n"
     ]
    },
    {
     "name": "stderr",
     "output_type": "stream",
     "text": [
      "C:\\Users\\PegahMaham_8pg0uam\\Anaconda3\\lib\\site-packages\\sklearn\\neural_network\\_multilayer_perceptron.py:585: ConvergenceWarning: Stochastic Optimizer: Maximum iterations (10) reached and the optimization hasn't converged yet.\n",
      "  % self.max_iter, ConvergenceWarning)\n"
     ]
    },
    {
     "name": "stdout",
     "output_type": "stream",
     "text": [
      "Test Accuracy NN:0.8135245901639344 for Hidden Layers[600], alpha=0.1\n"
     ]
    },
    {
     "name": "stderr",
     "output_type": "stream",
     "text": [
      "C:\\Users\\PegahMaham_8pg0uam\\Anaconda3\\lib\\site-packages\\sklearn\\neural_network\\_multilayer_perceptron.py:585: ConvergenceWarning: Stochastic Optimizer: Maximum iterations (10) reached and the optimization hasn't converged yet.\n",
      "  % self.max_iter, ConvergenceWarning)\n"
     ]
    },
    {
     "name": "stdout",
     "output_type": "stream",
     "text": [
      "Test Accuracy NN:0.8097677595628415 for Hidden Layers[600], alpha=0.2\n"
     ]
    }
   ],
   "source": [
    "# This takes some time, other hidden-layer-sizes have been tested but did not improve the results\n",
    "for alpha in [0.01,0.1,0.2]:\n",
    "    for hls in [[600]]:\n",
    "        getNNHyperparameters(X_train_all,X_test_all,hls,alpha)"
   ]
  },
  {
   "cell_type": "markdown",
   "metadata": {},
   "source": [
    "### Evaluation\n",
    "#### Final Test Accuracy\n",
    "- 0.814 for Multi-Layer Perceptron, a simple neural net with one hidden layers a 600 nodes and alpha=0.1 for regularization.\n",
    "- 0.812 for Regularized Logistic Regression with c=1 for regularization and L2 penalty.\n",
    "\n",
    "Both models use the tf-idf features, the fastText word embedding features and the VADER rule-based sentiment scores."
   ]
  },
  {
   "cell_type": "code",
   "execution_count": 36,
   "metadata": {},
   "outputs": [
    {
     "name": "stdout",
     "output_type": "stream",
     "text": [
      "The null rate for 'guessing' (always predicting the most dominant class (here 'negative')) is 0.6270491803278688\n"
     ]
    }
   ],
   "source": [
    "null_rate = y_test[\"airline_sentiment\"].value_counts().max()/len(y_test)\n",
    "print(f\"The null rate for 'guessing' (always predicting the most dominant class (here 'negative')) is {null_rate}\")"
   ]
  },
  {
   "cell_type": "markdown",
   "metadata": {},
   "source": [
    "#### Confusion Matrix for the results of the Top Models"
   ]
  },
  {
   "cell_type": "code",
   "execution_count": 39,
   "metadata": {},
   "outputs": [
    {
     "name": "stderr",
     "output_type": "stream",
     "text": [
      "C:\\Users\\PegahMaham_8pg0uam\\Anaconda3\\lib\\site-packages\\sklearn\\neural_network\\_multilayer_perceptron.py:585: ConvergenceWarning: Stochastic Optimizer: Maximum iterations (10) reached and the optimization hasn't converged yet.\n",
      "  % self.max_iter, ConvergenceWarning)\n"
     ]
    },
    {
     "data": {
      "text/plain": [
       "<Figure size 432x288 with 0 Axes>"
      ]
     },
     "metadata": {},
     "output_type": "display_data"
    },
    {
     "data": {
      "image/png": "[encoded data removed]",
      "text/plain": [
       "<Figure size 432x288 with 2 Axes>"
      ]
     },
     "metadata": {
      "needs_background": "light"
     },
     "output_type": "display_data"
    }
   ],
   "source": [
    "plt.figure()\n",
    "nn=MLPClassifier(hidden_layer_sizes=[600],alpha=0.1,max_iter=10,random_state=0)\n",
    "nn.fit(X_train_all, y_train.values.ravel())\n",
    "plot_confusion_matrix(nn, X_test_all, y_test.values.ravel(),\n",
    "                                 cmap=plt.cm.Reds,\n",
    "                                 normalize='true')\n",
    "plt.title(\"Confusion Matrix for Neural Network Classification\")\n",
    "plt.show();"
   ]
  },
  {
   "cell_type": "code",
   "execution_count": 38,
   "metadata": {},
   "outputs": [
    {
     "data": {
      "text/plain": [
       "<Figure size 432x288 with 0 Axes>"
      ]
     },
     "metadata": {},
     "output_type": "display_data"
    },
    {
     "data": {
      "image/png": "[encoded data removed]",
      "text/plain": [
       "<Figure size 432x288 with 2 Axes>"
      ]
     },
     "metadata": {
      "needs_background": "light"
     },
     "output_type": "display_data"
    }
   ],
   "source": [
    "log = LogisticRegression(solver='liblinear')\n",
    "log.fit(X_train_all, y_train.values.ravel());\n",
    "plt.figure()\n",
    "plot_confusion_matrix(log, X_test_all, y_test.values.ravel(),\n",
    "                                 cmap=plt.cm.Blues,\n",
    "                                 normalize='true')\n",
    "plt.title(\"Confusion Matrix for Logit Classification\")\n",
    "plt.show();"
   ]
  },
  {
   "cell_type": "markdown",
   "metadata": {},
   "source": [
    "#### Conclusion\n",
    "As we can see, both models classify the neutral tweets similarly well (51% correct). Overall, the neutral tweets are the hardest to classify correctly.\n",
    "While the neural net performs better in predicting positive tweets (76% vs. 71% true positive rate), the logit model is slightly superior with regard to negative tweets (94% vs. 93% true negative rate)."
   ]
  }
 ],
 "metadata": {
  "kernelspec": {
   "display_name": "Python 3",
   "language": "python",
   "name": "python3"
  },
  "language_info": {
   "codemirror_mode": {
    "name": "ipython",
    "version": 3
   },
   "file_extension": ".py",
   "mimetype": "text/x-python",
   "name": "python",
   "nbconvert_exporter": "python",
   "pygments_lexer": "ipython3",
   "version": "3.7.7"
  }
 },
 "nbformat": 4,
 "nbformat_minor": 4
}
